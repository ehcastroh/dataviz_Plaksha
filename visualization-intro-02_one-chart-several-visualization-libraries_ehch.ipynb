{
 "cells": [
  {
   "cell_type": "markdown",
   "metadata": {
    "slideshow": {
     "slide_type": "slide"
    }
   },
   "source": [
    "#  "
   ]
  },
  {
   "cell_type": "markdown",
   "metadata": {
    "cell_style": "center",
    "slideshow": {
     "slide_type": "slide"
    }
   },
   "source": [
    "<hr style=\"border: 8px solid#0B0B0B;\" />\n",
    "<br>\n",
    "\n",
    "\n",
    "<div align=\"center\">\n",
    "    <img src= \"predli_header.png\" align=\"Center\" width=\"25%\">\n",
    "</div>\n",
    "\n",
    "<br>\n",
    "\n",
    "</br>\n",
    "\n",
    "</br>\n",
    "\n",
    "<div align=\"left\" style=\"font-size:32px; font-family:FreeMono; font-weight: 100; font-stretch:ultra-condensed; line-height: 1.2; color:#2A2C2B\">\n",
    "    <strong>ONE CHART ACROSS SEVERAL VISUALIZATION LIBRARIES, AND A COMPARISON OF VISUALIZATION PARADIGMS</strong>\n",
    "</div>\n",
    "\n",
    "<br>\n",
    "\n",
    "<br>\n",
    "\n",
    "\n",
    "**Author list:** [Elias Castro Hernandez](https://www.linkedin.com/in/ehcastroh/) \n",
    "\n",
    "**Contact:** Alex (afo@berkeley.edu) | Elias (ehcastroh@berkeley.edu)\n",
    "\n",
    "**Main Reference(s):** The Grammar of Graphics by Leland Wilkinson, Stanfords's CS 448B - Data Visualization Techniques Class, Nicolas P. Rougier's Matplotlib Tutorial, the Data-X work by [Alexander Fred-Ojala](https://www.linkedin.com/in/alexanderfo/), Code Academy Tutorials (Seaborn), and the works of Edward Tufte.\n",
    "\n",
    "**Learning Goal(s):** The goal of this series of notebooks is to provide users with the necessary foundations for building and undertanding current state of the art visualizations. An additional aim is to provide users with an understanding of both the theory and techniques of various visualization paradigms. Finally, this series of notebooks seeks to provide sufficient knowledge to users so that they may build & evaluate various visualization systems, read & discuss visualization literature, and successfully convey visual information.\n",
    "\n",
    "\n",
    "**Copright:** Feel free to do whatever you want with this code.\n",
    "\n",
    "<hr style=\"border: 5px solid#0B0B0B;\" />\n",
    "\n",
    "<a name='Part_table_contents' id=\"Part_table_contents\"></a>"
   ]
  },
  {
   "cell_type": "markdown",
   "metadata": {
    "slideshow": {
     "slide_type": "slide"
    }
   },
   "source": [
    "<div align=\"left\" style=\"font-size:22px; font-family:FreeMono; font-weight: 100; line-height: 1.2; color:#2A2C2B\">\n",
    "    <strong>TOOLS OF INFORMATION DESIGN</strong> <br>\n",
    "</div>\n",
    "\n",
    "<br>\n",
    "\n",
    "There is a wide variety of visualization packages and engines available for Python, and new ones debut each year.  This notebook builds on the established material from the previous Jupyter Notebook - __visualization-intro-01_visualization-principles-w-matplotlib-and-seaborn_ech__ - as it seeks to further reinforce visualization principles while also providing an overview of the available tools."
   ]
  },
  {
   "cell_type": "markdown",
   "metadata": {
    "slideshow": {
     "slide_type": "slide"
    }
   },
   "source": [
    "#### A TOUR OF VISUALIZATION LIBRARIES\n",
    "\n",
    "> #### [PART 0: BRIEF OVERVIEW OF DATA TYPES](#Part_0)\n",
    "\n",
    "> #### [PART 1: A BRIEF TOUR OF PYTHON'S ENTRY-LEVEL VISUALIZATION LANDSCAPE](#Part_1)\n",
    "\n",
    "> #### [PART 2: TWO DYNAMIC VISUALIZATION LIBRARIES USING REAL WORLD DATA](#Part_2)\n",
    "\n",
    "> #### [PART 3: ONE PLOT: STATIC, DYNAMIC, AND INTERACTIVE](#Part_3)"
   ]
  },
  {
   "cell_type": "markdown",
   "metadata": {
    "slideshow": {
     "slide_type": "slide"
    }
   },
   "source": [
    "#### ADDITIONAL MATERIAL\n",
    "\n",
    "> #### [APPENDIX I: Resources and references to packages we won't cover in detail](#Appendix_I) \n"
   ]
  },
  {
   "cell_type": "markdown",
   "metadata": {
    "slideshow": {
     "slide_type": "slide"
    }
   },
   "source": [
    "<a id='Part_0'></a>\n",
    "<hr style=\"border: 4px solid#0B0B0B;\" />\n",
    "\n",
    "#### PART 0\n",
    "\n",
    "<br>\n",
    "\n",
    "<div align=\"left\" style=\"font-size:32px; font-family:FreeMono; font-weight: 100; font-stretch:ultra-condensed; line-height: 1.0; color:#2A2C2B\">\n",
    "    <strong>BRIEF</strong> OVERVIEW<br><strong> OF</strong> DATA <strong>TYPES</strong>\n",
    "</div>\n",
    "\n",
    "<br>\n",
    "\n",
    "<br>\n",
    "\n",
    "**General Information**\n",
    "<br>https://medium.com/@rndayala/data-levels-of-measurement-4af33d9ab51a\n",
    "<br>https://jukelogic.com/blog/2017/04/18/a-dramatic-tour-through-pythons-data-visualization-landscape-including-ggpy-and-altair/\n",
    "<br>https://pbpython.com/visualization-tools-1.html\n",
    "\n",
    "<br>\n",
    "\n",
    "Although this notebook will only briefly reference the topic of data classification, the area itself is a huge topic of great consequence. Since familiarity with data classification concepts can be extremely helpful to a visualization designer, several related links have been included in <strong>Appendix I</strong>."
   ]
  },
  {
   "cell_type": "markdown",
   "metadata": {},
   "source": [
    "<hr style=\"border: 1px solid#0B0B0B;\" />\n",
    "\n",
    "### **0.1 Data Types**\n",
    "\n",
    "<br>\n",
    "\n",
    "<table align=\"center\" style=\"width:80%; font-size:22px; font-family:FreeMono; font-weight: 100; font-stretch:ultra-condensed; line-height: 1.2; color:#2A2C2B\">\n",
    "  <tr>\n",
    "    <th><strong>NOMINAL DATA</strong></th>\n",
    "    <th><strong>ORDINAL DATA</strong></th>\n",
    "    <th><strong>QUANTITATIVE DATA</strong></th>\n",
    "  </tr>\n",
    "  <tr>\n",
    "    <td style=\"font-size:16px; font-family:FreeMono; font-weight: 100; font-stretch:ultra-condensed; line-height: 1.2; color:#2A2C2B; vertical-align:top\">Nonimal scales can be best thought of as 'labels,' but are comprised of objects, names, and concepts. Nominal data has no implicit quantitative relationship or inherent order. Nomial datum can share characteristics that might distinguish it form others and allow grouping.Because categorization often plays a major role in the manipulation of nominal data, it is often called categorical data. Nominal data is seldom visualized without it being associed with some other kind of data or structure.</td>\n",
    "    <td style=\"font-size:16px; font-family:FreeMono; font-weight: 100; font-stretch:ultra-condensed; line-height: 1.2; color:#2A2C2B; vertical-align:top\">Ordinal data can be arragend according to some order or rack. Although ordinal data provides the order between elements, it does not provide the degree to which they differ. That is, although nominal data can be order it has no measure of the interval between ordered elements.</td>\n",
    "    <td style=\"font-size:16px; font-family:FreeMono; font-weight: 100; font-stretch:ultra-condensed; line-height: 1.2; color:#2A2C2B; vertical-align:top\">Quantitative data can be measured and thus numercally manipulated, and as such has a measure of magnituted, size, weight, etc. Quantitative data can also be transformed to ordinal data by classing it. </td>\n",
    "  </tr>\n",
    "</table>\n",
    "<table align=\"center\" style=\"width:80%; font-size:22px; font-family:FreeMono; font-weight: 100; font-stretch:ultra-condensed; line-height: 1.2; color:#2A2C2B\">\n",
    "  <tr>\n",
    "      <th style=\"font-size:16px; font-family:FreeMono; font-weight: 100; font-stretch:ultra-condensed; line-height: 1.2; color:#2A2C2B; vertical-align:top\">  \n",
    "          <div align=\"center\" style=\"vertical-align:top\">\n",
    "            <img src= \"data/story_images/differences_in_data_type.png\" align=\"Center\" width=\"100%\" vertical-align=\"top\">\n",
    "          </div>  \n",
    "      </th>\n",
    "      <th style=\"font-size:16px; font-family:FreeMono; font-weight: 100; font-stretch:ultra-condensed; line-height: 1.2; color:#2A2C2B; vertical-align:top\">\n",
    "          <div align=\"center\">\n",
    "            <img src= \"data/story_images/properties_and_graph_by_data_type.png\" align=\"Center\" width=\"100%\" vertical-align=\"top\">\n",
    "          </div>\n",
    "      </th>\n",
    "  </tr>    \n",
    "</table>"
   ]
  },
  {
   "cell_type": "code",
   "execution_count": null,
   "metadata": {},
   "outputs": [],
   "source": [
    "### FROM DATA TYPE TO VISUALIZATION TYPE ###\n",
    "from IPython.display import *\n",
    "HTML(\"\"\"\n",
    "        <h3>Interactive Visualization-Type Search Tree (Based on Data Type)</h3> \n",
    "        <hr style=\"border: 1px solid#0B0B0B;\"/>\n",
    "        <div style=\"text-align: center\">\n",
    "            <iframe width=\"80%\" height=\"600\" \n",
    "            src=\"https://www.data-to-viz.com/\" frameborder=\"0\" allow=\"accelerometer; \n",
    "            autoplay; encrypted-media; gyroscope; picture-in-picture\" allowfullscreen>\n",
    "            </iframe>\n",
    "        </div>\n",
    "    \"\"\")"
   ]
  },
  {
   "cell_type": "markdown",
   "metadata": {
    "slideshow": {
     "slide_type": "skip"
    }
   },
   "source": [
    "<!--Navigate back to table of contents-->\n",
    "<div alig=\"right\" style=\"text-align: right\">\n",
    "    <span>\n",
    "        <a style=\"color:#FFFFFF; background-color:#0D0D0D; border:1px solid #FFFFFF; border-color:#FFFFFF;border-radius:5px;border-width:0px;display:inline-block;font-family:arial,helvetica,sans-serif;font-size:10px;letter-spacing:0px;line-height:10px;padding:10px 20px;text-align:center;text-decoration:none; align:center\" href=\"#Part_table_contents\" name=\"Table of Contents\"  id=\"Part_table_contents\"> \n",
    "            Table of Contents \n",
    "        </a>\n",
    "    </span>\n",
    "</div>\n",
    "<!-------------------------------------->"
   ]
  },
  {
   "cell_type": "markdown",
   "metadata": {
    "slideshow": {
     "slide_type": "slide"
    }
   },
   "source": [
    "<a id='Part_1'></a>\n",
    "<hr style=\"border: 4px solid#0B0B0B;\" />\n",
    "\n",
    "#### PART 1\n",
    "\n",
    "<br>\n",
    "\n",
    "<div align=\"left\" style=\"font-size:32px; font-family:FreeMono; font-weight: 100; font-stretch:ultra-condensed; line-height: 1.0; color:#2A2C2B\">\n",
    "    <strong>A BRIEF TOUR</strong><br>OF PYTHON'S<strong> VISUALIZATION LANDSCAPE</strong>\n",
    "</div>\n",
    "\n",
    "<br>\n",
    "\n",
    "<br>\n",
    "\n",
    "To explore the pros and cons of static visualization libraries, we will now compare the way each library handles and displays the popular Iris dataset. It should be noted that the a few of the following languages are capable of being used to create dynamic plots, but the ability comes with a steep learning curve. \n",
    "\n",
    "##### **[1. PANDAS: VISUALIZING IRIS DATASET](#Part_1_1)** \n",
    ">https://pandas.pydata.org/pandas-docs/stable/user_guide/visualization.html\n",
    "\n",
    "\n",
    "##### **[2. MATPLOTLIB: VISUALIZING IRIS DATASET](#Part_1_2)** \n",
    ">https://realpython.com/python-matplotlib-guide/\n",
    "\n",
    " \n",
    "##### **[3. SEABORN: VISUALIZING IRIS DATASET](#Part_1_3)** \n",
    ">https://seaborn.pydata.org/\n",
    "\n",
    "\n",
    "##### **[4. GGPY: VISUALIZING IRIS DATASET](#Part_1_4)** \n",
    ">https://yhat.github.io/ggpy/  &nbsp; and   &nbsp;  http://ggplot.yhathq.com/docs/index.html\n",
    "\n",
    "\n"
   ]
  },
  {
   "cell_type": "markdown",
   "metadata": {
    "slideshow": {
     "slide_type": "slide"
    }
   },
   "source": [
    "<a id='Part_1_1'></a>\n",
    "<hr style=\"border: 4px solid#0B0B0B;\" />\n",
    "\n",
    "##### PART 1.1\n",
    "\n",
    "<br>\n",
    "\n",
    "<div align=\"left\" style=\"font-size:22px; font-family:FreeMono; font-weight: 100; font-stretch:ultra-condensed; line-height: 1.0; color:#2A2C2B\">\n",
    "    <strong>PANDAS:</strong> VISUALIZING IRIS DATASET\n",
    "</div>\n",
    "\n",
    "<br>\n",
    "\n",
    "<br>\n",
    "\n",
    "**Pandas Installation:** can be done in terminal or by using magic keys\n",
    "```bash\n",
    "conda install pandas # in terminal, requires conda\n",
    "```\n",
    "OR\n",
    "```python\n",
    "pip install pandas # requires pip\n",
    "```\n",
    "\n",
    "___"
   ]
  },
  {
   "cell_type": "code",
   "execution_count": null,
   "metadata": {
    "slideshow": {
     "slide_type": "subslide"
    }
   },
   "outputs": [],
   "source": [
    "# Import standard libraries\n",
    "import matplotlib.pyplot as plt\n",
    "import pandas as pd\n",
    "import numpy as np\n",
    "\n",
    "# Import seborn for color palette and figure display\n",
    "import seaborn as sns\n",
    "sns.set()\n",
    "sns.set_context('notebook', font_scale=1)\n",
    "cp = sns.color_palette()\n",
    "\n",
    "%matplotlib inline"
   ]
  },
  {
   "cell_type": "code",
   "execution_count": null,
   "metadata": {},
   "outputs": [],
   "source": [
    "# load data\n",
    "df = pd.read_csv('Iris.csv')\n",
    "df.head(3)"
   ]
  },
  {
   "cell_type": "code",
   "execution_count": null,
   "metadata": {},
   "outputs": [],
   "source": [
    "# drop Id column \n",
    "dfp =  df.drop('Id', axis=1)\n",
    "dfp.head(3)"
   ]
  },
  {
   "cell_type": "markdown",
   "metadata": {},
   "source": [
    "#### PANDAS - Line Plot"
   ]
  },
  {
   "cell_type": "code",
   "execution_count": null,
   "metadata": {},
   "outputs": [],
   "source": [
    "# create figure and single axes\n",
    "fig, ax = plt.subplots(1, 1,\n",
    "                       figsize=(7, 5))\n",
    "\n",
    "dfp.plot.line(ax=ax)\n",
    "\n",
    "# modify artists in axes\n",
    "ax.set(xlabel='Value at Index',\n",
    "       ylabel='Petal Length',\n",
    "       title='Iris Dataset')\n",
    "    \n",
    "ax.legend(loc=2)\n",
    "fig.autofmt_xdate()"
   ]
  },
  {
   "cell_type": "markdown",
   "metadata": {},
   "source": [
    "___\n",
    "\n",
    "<br>\n",
    "\n",
    "<strong>CONSIDER:</strong> In all of the following \"mulitples lines in single figure\" examples, it is often easier to get to the desired plot by either (1) modifying the axis (state-based plotting), or (2) by creating an independent axes for each line plot. However, this is tedious work and as such the examples that follow revolve around not manually having to code each line axes.\n",
    "\n",
    "#### If you were to individually define 100 line plots, following is an example of you could do it -- <strong> but you should never do it</strong>\n",
    "\n",
    "```python\n",
    "    # stacked 100 line plot (i.e. single figure, 100 axes, ++100 artists\n",
    "    plt.plot( 'x', 'y1', data=df, marker='o', markerfacecolor='blue', markersize=12, color='skyblue', linewidth=4)\n",
    "    plt.plot( 'x', 'y2', data=df, marker='', color='olive', linewidth=2)\n",
    "    plt.plot( 'x', 'y3', data=df, marker='', color='olive', linewidth=2)\n",
    "```\n",
    "\n",
    "\n",
    "$$\\vdots$$\n",
    "\n",
    "\n",
    "```python\n",
    "    # this is so nasty!\n",
    "    plt.plot( 'x', 'y98', data=df, mmarker='', color='olive', linewidth=2)\n",
    "    plt.plot( 'x', 'y99', data=df, marker='', color='olive', linewidth=2)\n",
    "    plt.plot( 'x', 'y100', data=df, marker='', color='olive', linewidth=2, linestyle='dashed', label=\"toto\")\n",
    "```\n",
    "\n",
    "___\n",
    "\n",
    "\n",
    "<br>"
   ]
  },
  {
   "cell_type": "markdown",
   "metadata": {},
   "source": [
    "#### PANDAS - Scatter Plot"
   ]
  },
  {
   "cell_type": "code",
   "execution_count": null,
   "metadata": {},
   "outputs": [],
   "source": [
    "# create figure and single axes\n",
    "fig, ax = plt.subplots(1, 1,\n",
    "                       figsize=(7, 5))\n",
    "\n",
    "dfp.plot.scatter('PetalLengthCm', 'PetalWidthCm',ax=ax)\n",
    "\n",
    "# modify artists in axes\n",
    "ax.set(xlabel='Petal Width',\n",
    "       ylabel='Petal Length',\n",
    "       title='Wrong approach for plotting Width v. Length -- by Species')\n",
    "    \n",
    "ax.legend(loc=2)\n",
    "fig.autofmt_xdate()"
   ]
  },
  {
   "cell_type": "markdown",
   "metadata": {},
   "source": [
    "<br>\n",
    "\n",
    "\n",
    "___\n",
    "\n",
    "<strong>Aside:</strong> Sometimes in order to plot data we must first create count of the objects contained in a feature (i.e. column). The <strong>Python built-in function</strong>, ```enumerate(iterable, start=0)``` allows us to do this. \n",
    "\n",
    "\n",
    "<strong>Note:</strong> Also checkout the <strong>Pandas built-in funtion</strong>  ```pandas.melt()``` for an alternative way of doing this -- covered in the ggplot(ggpy) section below.\n",
    "\n",
    "\n",
    "```python\n",
    "    >>> seasons = ['Spring', 'Summer', 'Fall', 'Winter']\n",
    "    >>> list(enumerate(seasons, start=0))    # coerce tupples into elements in a list\n",
    "    \n",
    "    [(0, 'Spring'), (1, 'Summer'), (2, 'Fall'), (3, 'Winter')]\n",
    "```\n",
    "___\n",
    "\n",
    "<br>"
   ]
  },
  {
   "cell_type": "code",
   "execution_count": null,
   "metadata": {},
   "outputs": [],
   "source": [
    "# create figure and axes\n",
    "fig, ax = plt.subplots(1, 1, figsize=(7, 5))\n",
    "\n",
    "# iterate over values in unique data and return a tuple countaining a count\n",
    "# create an axes each iteration and pass tupple data\n",
    "for i, j in enumerate(dfp.Species.unique()):\n",
    "    dfp[dfp.Species == j].plot.scatter(\n",
    "        'PetalLengthCm', 'PetalWidthCm',\n",
    "        c=cp[i], label=j, ax=ax\n",
    "    )\n",
    "\n",
    "# modify artists in Axes\n",
    "ax.set(xlabel='Petal Length',\n",
    "       ylabel='Petal Width',\n",
    "       title='Petal Width v. Length -- by Species')\n",
    "\n",
    "ax.legend(loc=2);"
   ]
  },
  {
   "cell_type": "markdown",
   "metadata": {},
   "source": [
    "#### PANDAS - Box Plot"
   ]
  },
  {
   "cell_type": "code",
   "execution_count": null,
   "metadata": {},
   "outputs": [],
   "source": [
    "fig, ax = plt.subplots(1, 1, figsize=(7, 7))\n",
    "\n",
    "dfp.boxplot(column='PetalWidthCm', by='Species', ax=ax);"
   ]
  },
  {
   "cell_type": "markdown",
   "metadata": {},
   "source": [
    "#### PANDAS - Histograms"
   ]
  },
  {
   "cell_type": "code",
   "execution_count": null,
   "metadata": {},
   "outputs": [],
   "source": [
    "fig, ax = plt.subplots(1, 1, figsize=(7, 7))\n",
    "\n",
    "dfp.hist(column='PetalWidthCm', by='Species', grid=None, ax=ax);"
   ]
  },
  {
   "cell_type": "markdown",
   "metadata": {
    "slideshow": {
     "slide_type": "skip"
    }
   },
   "source": [
    "<!--Navigate back to table of contents-->\n",
    "<div alig=\"right\" style=\"text-align: right\">\n",
    "    <span>\n",
    "        <a style=\"color:#FFFFFF; background-color:#0D0D0D; border:1px solid #FFFFFF; border-color:#FFFFFF;border-radius:5px;border-width:0px;display:inline-block;font-family:arial,helvetica,sans-serif;font-size:10px;letter-spacing:0px;line-height:10px;padding:10px 20px;text-align:center;text-decoration:none; align:center\" href=\"#Part_table_contents\" name=\"Table of Contents\"  id=\"Part_table_contents\"> \n",
    "            Table of Contents \n",
    "        </a>\n",
    "    </span>\n",
    "</div>\n",
    "<!-------------------------------------->"
   ]
  },
  {
   "cell_type": "markdown",
   "metadata": {},
   "source": [
    "<a id='Part_1_2'></a>\n",
    "<hr style=\"border: 4px solid#0B0B0B;\" />\n",
    "\n",
    "##### PART 1.2\n",
    "\n",
    "<br>\n",
    "\n",
    "<div align=\"left\" style=\"font-size:22px; font-family:FreeMono; font-weight: 100; font-stretch:ultra-condensed; line-height: 1.0; color:#2A2C2B\">\n",
    "    <strong>MATPLOTLIB:</strong> VISUALIZING IRIS DATASET\n",
    "</div>\n",
    "\n",
    "<br>\n",
    "\n",
    "<br>\n",
    "\n",
    "**Matplotlib Installation:** can be done in terminal or by using magic keys\n",
    "```bash\n",
    "conda install -c conda-forge matplotlib # in terminal, requires conda\n",
    "```\n",
    "OR\n",
    "```python\n",
    "pip install -U matplotlib # install official release\n",
    "```\n",
    "\n",
    "___"
   ]
  },
  {
   "cell_type": "code",
   "execution_count": null,
   "metadata": {},
   "outputs": [],
   "source": [
    "# Import standard libraries\n",
    "import matplotlib.pyplot as plt\n",
    "import pandas as pd\n",
    "import numpy as np\n",
    "\n",
    "%matplotlib inline"
   ]
  },
  {
   "cell_type": "code",
   "execution_count": null,
   "metadata": {},
   "outputs": [],
   "source": [
    "# load data\n",
    "df = pd.read_csv('Iris.csv')\n",
    "\n",
    "# drop Id column \n",
    "dfm =  df.drop('Id', axis=1)\n",
    "dfm.head(3)"
   ]
  },
  {
   "cell_type": "markdown",
   "metadata": {},
   "source": [
    "#### MATPLOTLIB - Line Plot"
   ]
  },
  {
   "cell_type": "code",
   "execution_count": null,
   "metadata": {},
   "outputs": [],
   "source": [
    "# \"Melt\" the dataset to \"long-form\" or \"tidy\" representation\n",
    "iris = pd.melt(dfm, \"Species\", var_name=\"Measurement\")\n",
    "iris.head()\n",
    "\n",
    "# melt turns one or more columns into identifier variables (id_vars), \n",
    "# while all other columns, are considered measured variables (value_vars)\n",
    "# https://pandas.pydata.org/pandas-docs/version/0.23/generated/pandas.melt.html"
   ]
  },
  {
   "cell_type": "code",
   "execution_count": null,
   "metadata": {},
   "outputs": [],
   "source": [
    "# create figure and single axes\n",
    "fig, ax = plt.subplots(1, 1, figsize=(7, 5))\n",
    "\n",
    "                \n",
    "# iterate over unique data and create one axes per iteration\n",
    "for i, j in enumerate(iris.Measurement.unique()):\n",
    "    iris[iris.Measurement == j].plot(\n",
    "        'Species', 'value',\n",
    "        c=cp[i], label=j, ax=ax\n",
    "    )\n",
    "\n",
    "# modify artists in Axes\n",
    "ax.set(xlabel='Petal Length',\n",
    "       ylabel='Petal Width',\n",
    "       title='Petal Width v. Length -- by Species')\n",
    "\n",
    "ax.legend(loc=2);"
   ]
  },
  {
   "cell_type": "markdown",
   "metadata": {},
   "source": [
    "#### MATPLOTLIB - Scatter Plot"
   ]
  },
  {
   "cell_type": "code",
   "execution_count": null,
   "metadata": {},
   "outputs": [],
   "source": [
    "# create figure and single axes\n",
    "fig, ax = plt.subplots(1, 1, figsize=(7, 5))\n",
    "\n",
    "                \n",
    "# iterate over unique data and create one axes per iteration\n",
    "for i, j in enumerate(dfm.Species.unique()):\n",
    "    \n",
    "    # a slightly different way of creating axes from the enumeration\n",
    "    tmp = dfm[dfm.Species == j]\n",
    "    ax.scatter(tmp.PetalLengthCm, tmp.PetalWidthCm, label=j)\n",
    "\n",
    "# modify artists in Axes\n",
    "ax.set(xlabel='Petal Length',\n",
    "       ylabel='Petal Width',\n",
    "       title='Petal Width v. Length -- by Species')\n",
    "\n",
    "ax.legend(loc=2);"
   ]
  },
  {
   "cell_type": "markdown",
   "metadata": {},
   "source": [
    "#### MATPLOTLIB - Box Plot"
   ]
  },
  {
   "cell_type": "code",
   "execution_count": null,
   "metadata": {},
   "outputs": [],
   "source": [
    "# create figure and single axes\n",
    "fig, ax = plt.subplots(1, 1, figsize=(10, 10))\n",
    "\n",
    "# iterate and update axes\n",
    "ax.boxplot([dfm[dfm.Species == s]['PetalWidthCm'].values\n",
    "                for s in dfm.Species.unique()])\n",
    "\n",
    "ax.set(xticklabels=dfm.Species.unique(),\n",
    "       xlabel='Species',\n",
    "       ylabel='Petal Width',\n",
    "       title='Distribution of Petal Width by Species');"
   ]
  },
  {
   "cell_type": "markdown",
   "metadata": {},
   "source": [
    "#### MATPLOTLIB - Histogram"
   ]
  },
  {
   "cell_type": "code",
   "execution_count": null,
   "metadata": {},
   "outputs": [],
   "source": [
    "# create figure and single axes\n",
    "fig, ax = plt.subplots(1, 1, figsize=(10, 10))\n",
    "\n",
    "# enumerate over data and iterably update axes with artist (histogram) \n",
    "for i, j in enumerate(dfm.Species.unique()):\n",
    "    tmp = dfm[dfm.Species == j]\n",
    "    ax.hist(tmp.PetalWidthCm, label=j, alpha=.8)\n",
    "\n",
    "ax.set(xlabel='Petal Width',\n",
    "       ylabel='Frequency',\n",
    "       title='Distribution of Petal Width by Species')    \n",
    "\n",
    "ax.legend(loc=1);"
   ]
  },
  {
   "cell_type": "markdown",
   "metadata": {},
   "source": [
    "<!--Navigate back to table of contents-->\n",
    "<div alig=\"right\" style=\"text-align: right\">\n",
    "    <span>\n",
    "        <a style=\"color:#FFFFFF; background-color:#0D0D0D; border:1px solid #FFFFFF; border-color:#FFFFFF;border-radius:5px;border-width:0px;display:inline-block;font-family:arial,helvetica,sans-serif;font-size:10px;letter-spacing:0px;line-height:10px;padding:10px 20px;text-align:center;text-decoration:none; align:center\" href=\"#Part_table_contents\" name=\"Table of Contents\"  id=\"Part_table_contents\"> \n",
    "            Table of Contents \n",
    "        </a>\n",
    "    </span>\n",
    "</div>\n",
    "<!-------------------------------------->"
   ]
  },
  {
   "cell_type": "markdown",
   "metadata": {},
   "source": [
    "<a id='Part_1_3'></a>\n",
    "<hr style=\"border: 4px solid#0B0B0B;\" />\n",
    "\n",
    "##### PART 1.3\n",
    "\n",
    "<br>\n",
    "\n",
    "<div align=\"left\" style=\"font-size:22px; font-family:FreeMono; font-weight: 100; font-stretch:ultra-condensed; line-height: 1.0; color:#2A2C2B\">\n",
    "    <strong>SEABORN:</strong> VISUALIZING IRIS DATASET\n",
    "</div>\n",
    "\n",
    "<br>\n",
    "\n",
    "<br>\n",
    "\n",
    "**Seaborn Installation:** can be done in terminal or by using magic keys\n",
    "```bash\n",
    "conda install seaborn # in terminal, requires conda\n",
    "```\n",
    "OR\n",
    "```python\n",
    "pip install seaborn # install official release\n",
    "```\n",
    "\n",
    "___"
   ]
  },
  {
   "cell_type": "code",
   "execution_count": null,
   "metadata": {},
   "outputs": [],
   "source": [
    "# Import standard libraries\n",
    "import matplotlib.pyplot as plt\n",
    "import pandas as pd\n",
    "import numpy as np\n",
    "\n",
    "# Import seaborn and set style guidelines \n",
    "import seaborn as sns\n",
    "sns.set()\n",
    "sns.set_context('notebook', font_scale=1)\n",
    "cp = sns.color_palette()\n",
    "\n",
    "# Supress warnings from notebook\n",
    "import warnings\n",
    "warnings.simplefilter('ignore')"
   ]
  },
  {
   "cell_type": "code",
   "execution_count": null,
   "metadata": {},
   "outputs": [],
   "source": [
    "# load data\n",
    "df = pd.read_csv('Iris.csv')\n",
    "\n",
    "# drop Id column \n",
    "dfs =  df.drop('Id', axis=1)\n",
    "dfs.head(3)"
   ]
  },
  {
   "cell_type": "code",
   "execution_count": null,
   "metadata": {},
   "outputs": [],
   "source": [
    "# \"Melt\" the dataset to \"long-form\" or \"tidy\" representation\n",
    "iris = pd.melt(dfm, \"Species\", var_name=\"Measurement\")\n",
    "iris.head()\n",
    "\n",
    "# melt turns one or more columns into identifier variables (id_vars), \n",
    "# while all other columns, are considered measured variables (value_vars)\n",
    "# https://pandas.pydata.org/pandas-docs/version/0.23/generated/pandas.melt.html"
   ]
  },
  {
   "cell_type": "markdown",
   "metadata": {},
   "source": [
    "#### SEABORN: Line Plot"
   ]
  },
  {
   "cell_type": "code",
   "execution_count": null,
   "metadata": {},
   "outputs": [],
   "source": [
    "dfs.plot(figsize=(7, 5))"
   ]
  },
  {
   "cell_type": "markdown",
   "metadata": {},
   "source": [
    "#### SEABORN: Scatter Plot"
   ]
  },
  {
   "cell_type": "code",
   "execution_count": null,
   "metadata": {},
   "outputs": [],
   "source": [
    "#### SPEND SOME TIME ON THIS ONE ####\n",
    "\n",
    "# FacetGrid (class) maps data into multiple axes automatically (no need to iterate)\n",
    "g = sns.FacetGrid(dfs, hue='Species', size=5, aspect=1.5)\n",
    "\n",
    "#g = sns.FacetGrid(dfs, col='Species', hue='Species', size=5, aspect=1.5)\n",
    "\n",
    "# use map function inlieu of enumeration \n",
    "g.map(plt.scatter, 'PetalLengthCm', 'PetalWidthCm').add_legend()\n",
    "\n",
    "g.ax.set(xlabel='Petal Length',\n",
    "         ylabel='Petal Width',\n",
    "         title='Petal Width v. Length -- by Species')\n",
    "\n",
    "g.fig.autofmt_xdate()"
   ]
  },
  {
   "cell_type": "markdown",
   "metadata": {},
   "source": [
    "#### SEABORN: Box Plot"
   ]
  },
  {
   "cell_type": "code",
   "execution_count": null,
   "metadata": {},
   "outputs": [],
   "source": [
    "# Create Figure and single axes\n",
    "fig, ax = plt.subplots(1, 1, figsize=(7, 7))\n",
    "\n",
    "g = sns.boxplot('Species', 'PetalWidthCm', data=dfs, ax=ax)\n",
    "g.set(title='Distribution of Petal Width by Species')"
   ]
  },
  {
   "cell_type": "markdown",
   "metadata": {},
   "source": [
    "#### SEABORN: Histogram"
   ]
  },
  {
   "cell_type": "code",
   "execution_count": null,
   "metadata": {},
   "outputs": [],
   "source": [
    "# FacetGrid (class) maps data into multiple axes automatically (no need to iterate)\n",
    "g = sns.FacetGrid(dfs, hue='Species', size=7)\n",
    "\n",
    "#g = sns.FacetGrid(dfs, col='Species', hue='Species PetalWidthCm', size=7.5)\n",
    "\n",
    "# use map function inlieu of enumeration \n",
    "g.map(sns.distplot, 'PetalWidthCm',kde=False, rug=True).add_legend()\n",
    "#g.map(sns.distplot, 'PetalWidthCm',kde=False, rug=True, bins=10).add_legend()\n",
    "\n",
    "g.set(xlabel='Petal Width',\n",
    "      ylabel='Frequency',\n",
    "      title='Distribution of Petal Width by Species')\n",
    "\n",
    "g.fig.autofmt_xdate()"
   ]
  },
  {
   "cell_type": "markdown",
   "metadata": {},
   "source": [
    "<!--Navigate back to table of contents-->\n",
    "<div alig=\"right\" style=\"text-align: right\">\n",
    "    <span>\n",
    "        <a style=\"color:#FFFFFF; background-color:#0D0D0D; border:1px solid #FFFFFF; border-color:#FFFFFF;border-radius:5px;border-width:0px;display:inline-block;font-family:arial,helvetica,sans-serif;font-size:10px;letter-spacing:0px;line-height:10px;padding:10px 20px;text-align:center;text-decoration:none; align:center\" href=\"#Part_table_contents\" name=\"Table of Contents\"  id=\"Part_table_contents\"> \n",
    "            Table of Contents \n",
    "        </a>\n",
    "    </span>\n",
    "</div>\n",
    "<!-------------------------------------->"
   ]
  },
  {
   "cell_type": "markdown",
   "metadata": {},
   "source": [
    "<a id='Part_1_4'></a>\n",
    "<hr style=\"border: 4px solid#0B0B0B;\" />\n",
    "\n",
    "##### PART 1.4\n",
    "\n",
    "<br>\n",
    "\n",
    "<div align=\"left\" style=\"font-size:22px; font-family:FreeMono; font-weight: 100; font-stretch:ultra-condensed; line-height: 1.0; color:#2A2C2B\">\n",
    "    <strong>GGPLOT(GGPY) &amp; PLOTNINE:</strong> VISUALIZING IRIS DATASET\n",
    "</div>\n",
    "\n",
    "<br>\n",
    "\n",
    "<br>\n",
    "\n",
    "**GGPlot (GGPy) Installation:** can be done in terminal or by using magic keys. However, it appears that the library has been neglected and prone to errors depending on interdependencies.\n",
    "```bash\n",
    "conda install -c conda-forge ggplot # in terminal, requires conda\n",
    "```\n",
    "OR\n",
    "```python\n",
    "pip install -U ggplot # install official release\n",
    "```\n",
    "\n",
    "<br>\n",
    "\n",
    "\n",
    "**Plotnine Installation:** Plotnine is a ggplot2 clone that more closely adhere's to what <strong >R</strong> users are used to. <strong style=\"color:red\">Install Plotnine</strong> instead of ggplot as it is less likely to cause errors related to displaying your artists. Don't worry, the syntax is identical to ggplot. In all likelyhood you will forget that you are using Plotnine.\n",
    "\n",
    "```python\n",
    "pip install plotnine \n",
    "\n",
    "```\n",
    "___"
   ]
  },
  {
   "cell_type": "code",
   "execution_count": null,
   "metadata": {},
   "outputs": [],
   "source": [
    "# Import standard libraries\n",
    "import matplotlib.pyplot as plt\n",
    "import pandas as pd\n",
    "import numpy as np\n",
    "\n",
    "# Supress warnings from notebook\n",
    "import warnings\n",
    "warnings.simplefilter('ignore')\n",
    "\n",
    "# Import everything from ggplot\n",
    "from ggplot import *\n",
    "\n",
    "# Import everything from plotnine\n",
    "from plotnine import *\n",
    "\n",
    "\"\"\"\n",
    "    Note: if you get the TimeStamp error, see \n",
    "    https://stackoverflow.com/questions/50591982/importerror-cannot-import-name-timestamp\n",
    "\"\"\";"
   ]
  },
  {
   "cell_type": "code",
   "execution_count": null,
   "metadata": {},
   "outputs": [],
   "source": [
    "# load data\n",
    "df = pd.read_csv('Iris.csv')\n",
    "\n",
    "# drop Id column \n",
    "dfg =  df.drop('Id', axis=1)\n",
    "dfg.head(3)"
   ]
  },
  {
   "cell_type": "markdown",
   "metadata": {},
   "source": [
    "<br>\n",
    "\n",
    "\n",
    "___\n",
    "\n",
    "<strong>Aside:</strong> We are wanting to plot, iteratively, our features as the response for the unit measurement -- e.g. x=5.1, y=SepalLengthCm -- and do this for each bin (group/species). Pandas possess the a <strong>built-in funtion</strong>  ```pandas.melt()``` that allows us massage our dataframe and do just that.\n",
    "https://pandas.pydata.org/pandas-docs/stable/reference/api/pandas.melt.html\n",
    "\n",
    "\n",
    "```python\n",
    "    >>>df = pd.DataFrame({'A': {0: 'a', 1: 'b', 2: 'c'},\n",
    "                          'B': {0: 1, 1: 3, 2: 5},\n",
    "                          'C': {0: 2, 1: 4, 2: 6}})\n",
    "    >>>df\n",
    "   A  B  C\n",
    "0  a  1  2\n",
    "1  b  3  4\n",
    "2  c  5  6\n",
    "    \n",
    "\n",
    "    >>>pd.melt(df, id_vars=['A'], value_vars=['B'])\n",
    "   A variable  value\n",
    "0  a        B      1\n",
    "1  b        B      3\n",
    "2  c        B      5\n",
    "\n",
    "```\n",
    "\n",
    "<br>\n",
    "\n",
    "This function is useful to massage a DataFrame into a format where one or more columns are identifier variables (id_vars), while all other columns, considered measured variables (value_vars), are “unpivoted” to the row axis, leaving just two non-identifier columns, ‘variable’ and ‘value’.\n",
    "___\n",
    "\n",
    "<br>"
   ]
  },
  {
   "cell_type": "code",
   "execution_count": null,
   "metadata": {},
   "outputs": [],
   "source": [
    "## Create ID's out of Species (unique), so that you can plot them as x:= count\n",
    "iris = pd.melt(dfg, id_vars=\"Species\")\n",
    "iris.head(3)"
   ]
  },
  {
   "cell_type": "markdown",
   "metadata": {},
   "source": [
    "#### GGPLOT(GGPY) - Line Plot"
   ]
  },
  {
   "cell_type": "code",
   "execution_count": null,
   "metadata": {},
   "outputs": [],
   "source": [
    "ggplot(iris, aes(x='Species', y='value', color='variable')) + geom_line()"
   ]
  },
  {
   "cell_type": "markdown",
   "metadata": {},
   "source": [
    "___\n",
    "\n",
    "<strong>What happened?</strong>\n",
    "\n",
    "<strong>Fix:</strong> ggplot expects the data to be in a 'long' data type, which is handled by the ```pandas.melt```, but also needs temporality variables in order to plot.  Since ggplot does not currently support plotting the index, we must first make one and insert into the melted dataframe iris, or not remove it during preprocessing. \n",
    "\n",
    "##### THIS BRING UP AN IMPORTANT OBSERVATION: YOU SHOULD ALWAYS ASK YOURSELF WHAT YOU WANT TO VISUALIZE, PRIOR TO PREPROCESSING\n",
    "\n",
    "\n",
    "___\n",
    "\n",
    "\n",
    "<br>"
   ]
  },
  {
   "cell_type": "code",
   "execution_count": null,
   "metadata": {},
   "outputs": [],
   "source": [
    "a = int(5)\n"
   ]
  },
  {
   "cell_type": "code",
   "execution_count": null,
   "metadata": {},
   "outputs": [],
   "source": [
    "### Let's try melting again, but first: ### \n",
    "import copy  #used for making copies of dataframes\n",
    "\n",
    "## sanity check\n",
    "print(df.head(3))\n",
    "\n",
    "# to avoid pass-by-reference errors\n",
    "dfg2 = copy.deepcopy(df)\n",
    "dfg2.head(3)"
   ]
  },
  {
   "cell_type": "code",
   "execution_count": null,
   "metadata": {},
   "outputs": [],
   "source": [
    "## Create ID's out of Species (unique), so that you can plot them as x:= count\n",
    "\n",
    "iris2 = pd.melt(dfg2, id_vars=['Id', 'Species'])\n",
    "iris2.head(3)"
   ]
  },
  {
   "cell_type": "code",
   "execution_count": null,
   "metadata": {},
   "outputs": [],
   "source": [
    "ggplot(iris2, aes(x='Id', y='value', color='variable')) + geom_line()"
   ]
  },
  {
   "cell_type": "code",
   "execution_count": null,
   "metadata": {},
   "outputs": [],
   "source": [
    "ggplot(dfg, aes(x='PetalLengthCm', y='PetalWidthCm', color='Species')) + geom_point()"
   ]
  },
  {
   "cell_type": "markdown",
   "metadata": {},
   "source": [
    "#### GGPLOT(GGPY) - Box Plot"
   ]
  },
  {
   "cell_type": "code",
   "execution_count": null,
   "metadata": {},
   "outputs": [],
   "source": [
    "ggplot(aes(x='Species', y=\"PetalWidthCm\", fill='Species'), data=dfg) +\\\n",
    "    geom_boxplot() +\\\n",
    "    ggtitle(\"Distribution of Petal Width by Species\")"
   ]
  },
  {
   "cell_type": "markdown",
   "metadata": {},
   "source": [
    "#### GGPLOT(GGPY) - Histogram"
   ]
  },
  {
   "cell_type": "code",
   "execution_count": null,
   "metadata": {},
   "outputs": [],
   "source": [
    "# parameter order matters\n",
    "ggplot(dfg,                                        \n",
    "       aes(x='PetalWidthCm', fill='Species')) + \\\n",
    "        geom_histogram() + \\\n",
    "        ylab('Frequency') + \\\n",
    "        ggtitle('Distribution of Petal Width by Species')"
   ]
  },
  {
   "cell_type": "markdown",
   "metadata": {},
   "source": [
    "___\n",
    "\n",
    "\n",
    "#### <strong> GRAMMAR OF GRAPHICS</strong>\n",
    "\n",
    "<br>\n",
    "\n",
    "<div align=\"center\">\n",
    "    <img src= \"grammar_of_graphics_1_3stack.png\" align=\"Center\" width=\"45%\">\n",
    "</div>\n",
    "\n",
    "<br>\n",
    "    \n",
    "You may have notived an elegant simplicity when plotting with GGPLOT/PLOTNINE. This is becuase the language is structured according to the philosophy presented in Leland Wilkinson's book \"The Grammar of Grapics\" (see the resources folder of a pdf copy). In essence, Leland wanted to make visualizing data as expressive as a language. In his words:\n",
    "\n",
    "<br>\n",
    "\n",
    "\n",
    "<div style=\"text-align:left; padding:0px 30px; font-family:FreeMono; font-weight:100; font-stretch:ultra-condensed;font-size:30px;color:#ff9e0c\">\n",
    "    GRAMMAR MAKES LANGUAGE EXPRESSIVE. A LANGUAGE THAT HAS WORDS AND NO GRAMMAR EXPRESSES ONLY AS MANY IDEAS AS THERE ARE WORDS.\n",
    "</div>\n",
    "<div style=\"text-align:right; padding:18px 100px; font-family:FreeMono; font-size:20px;color:#ff9e0c\">\n",
    "    <strong>- Leland Wilkinson</strong>\n",
    "</div>\n",
    "\n",
    "<br>\n",
    "\n",
    "Visualization libraries/engines that adhere to the grammar of graphics are much easier to understand by code structure/syntax alone. Later we will see that combining such a paradigm with declarative programing can lead to extremely flexible programming that is nonetheless very easy to understand and work with.\n",
    "\n",
    "\n",
    "___\n",
    "\n",
    "\n",
    "<br>"
   ]
  },
  {
   "cell_type": "markdown",
   "metadata": {},
   "source": [
    "<!--Navigate back to table of contents-->\n",
    "<div alig=\"right\" style=\"text-align: right\">\n",
    "    <span>\n",
    "        <a style=\"color:#FFFFFF; background-color:#0D0D0D; border:1px solid #FFFFFF; border-color:#FFFFFF;border-radius:5px;border-width:0px;display:inline-block;font-family:arial,helvetica,sans-serif;font-size:10px;letter-spacing:0px;line-height:10px;padding:10px 20px;text-align:center;text-decoration:none; align:center\" href=\"#Part_table_contents\" name=\"Table of Contents\"  id=\"Part_table_contents\"> \n",
    "            Table of Contents \n",
    "        </a>\n",
    "    </span>\n",
    "</div>\n",
    "<!-------------------------------------->"
   ]
  },
  {
   "cell_type": "markdown",
   "metadata": {
    "slideshow": {
     "slide_type": "slide"
    }
   },
   "source": [
    "<a id='Part_2'></a>\n",
    "<hr style=\"border: 4px solid#0B0B0B;\" />\n",
    "\n",
    "#### PART 2\n",
    "\n",
    "<br>\n",
    "\n",
    "<div align=\"left\" style=\"font-size:32px; font-family:FreeMono; font-weight: 100; font-stretch:ultra-condensed; line-height: 1.0; color:#2A2C2B\">\n",
    "    <strong>TWO DYNAMIC</strong><br> VISUALIZATION LIBRARIES<br><strong> USING REAL WORLD DATA </strong>\n",
    "</div>\n",
    "\n",
    "<br>\n",
    "\n",
    "<br>\n",
    "\n",
    "**General Information**\n",
    "\n",
    "##### **[1. PLOTLY: BOX+SCATTER AND HEAT+CORROGRAM](#Part_2_1)** \n",
    "\n",
    "##### **[2. ALTAIR: SCATTER PLOT WITH LINKED BRUSHING](#Part_2_2)** <br>https://www.youtube.com/watch?v=9uaHRWj04D4\n",
    "\n"
   ]
  },
  {
   "cell_type": "markdown",
   "metadata": {
    "slideshow": {
     "slide_type": "slide"
    }
   },
   "source": [
    "<a id='Part_2_1'></a>\n",
    "<hr style=\"border: 4px solid#0B0B0B;\" />\n",
    "\n",
    "##### PART 2.1\n",
    "\n",
    "<br>\n",
    "\n",
    "<div align=\"left\" style=\"font-size:22px; font-family:FreeMono; font-weight: 100; font-stretch:ultra-condensed; line-height: 1.0; color:#2A2C2B\">\n",
    "    <strong>PLOTLY:</strong><br><strong> BOX+SCATTER</strong> AND <strong>HEAT+CORROGRAM</strong> \n",
    "</div>\n",
    "\n",
    "<br>\n",
    "\n",
    "<br>\n",
    "\n",
    "**PLOTLY Installation:** can be done in terminal or by using magic keys.<br>https://plot.ly/python/getting-started/ \n",
    "\n",
    "\n",
    "```bash\n",
    "conda install -c plotly # in terminal, requires conda\n",
    "```\n",
    "OR\n",
    "```python\n",
    "pip install plotly  # install official release\n",
    "```\n",
    "\n",
    "<br>\n",
    "\n",
    "**Note:** Plotly's Python package is updated frequently! To upgrade, run: \n",
    "\n",
    "```python\n",
    "pip install plotly --upgrade\n",
    "```\n",
    "<br>\n",
    "\n",
    "\n",
    "**Plot.ly** is an _open-source_ data visualization tool built using Python (Django) & JavaScript. It provides fully interactive, and rendered plots and visualizations using D3.js or WebGL (for 3D).\n",
    "\n",
    "\n",
    "___"
   ]
  },
  {
   "cell_type": "code",
   "execution_count": null,
   "metadata": {},
   "outputs": [],
   "source": [
    "# Remove warnings and display plots inline\n",
    "import matplotlib as plt\n",
    "%matplotlib inline\n",
    "\n",
    "import matplotlib as mpl\n",
    "mpl.rcParams['axes.linewidth'] = 0.5 #set the value globally\n",
    "\n",
    "import warnings\n",
    "warnings.filterwarnings('ignore') # remove warnings"
   ]
  },
  {
   "cell_type": "code",
   "execution_count": null,
   "metadata": {
    "slideshow": {
     "slide_type": "subslide"
    }
   },
   "outputs": [],
   "source": [
    "# Import background libraries\n",
    "from pylab import *\n",
    "import pandas as pd\n",
    "import numpy as np\n",
    "import time\n",
    "\n",
    "\n",
    "# Import Plotly related libraries\n",
    "import chart_studio\n",
    "import plotly.tools as tls              # for mpl, config, etc.\n",
    "import plotly.offline as offline\n",
    "from plotly.graph_objs import *         # __all__ is safely defined\n",
    "import chart_studio.plotly as py\n",
    "import plotly.graph_objects as go\n",
    "import plotly.figure_factory as ff\n",
    "from scipy.spatial import Delaunay\n",
    "from plotly.offline import download_plotlyjs, init_notebook_mode, plot, iplot\n",
    "\n",
    "\n",
    "# pretty colors\n",
    "import seaborn as sns\n",
    "import colorlover as cl\n",
    "# pretty print for json objects\n",
    "import pprint as pp\n",
    "\n",
    "from imp import reload\n",
    "\n",
    "# set credentials \n",
    "chart_studio.tools.set_credentials_file(username='ehcastroh', api_key='sIgtKpyC9M7dVrmwyBHt')"
   ]
  },
  {
   "cell_type": "code",
   "execution_count": null,
   "metadata": {
    "slideshow": {
     "slide_type": "subslide"
    }
   },
   "outputs": [],
   "source": [
    "# generating plots within Jupyter\n",
    "init_notebook_mode(connected=True)"
   ]
  },
  {
   "cell_type": "code",
   "execution_count": null,
   "metadata": {},
   "outputs": [],
   "source": [
    "# load data\n",
    "df = pd.read_csv(\"bii_data_w_categories.csv\")\n",
    "df.head()"
   ]
  },
  {
   "cell_type": "code",
   "execution_count": null,
   "metadata": {},
   "outputs": [],
   "source": [
    "#### DESIRED ARTISTS ####\n",
    "\n",
    "client = \"Plaksha\"\n",
    "workgrp = \" Visualizations\"\n",
    "\n",
    "# create sequential color scales\n",
    "c_scale = [\n",
    "    [0.0, 'rgba(38, 82, 112, 0.8)'], \n",
    "    [0.5, 'rgba(78, 94, 110, 1.0)'],\n",
    "    [1.0, 'rgba(247, 127, 3, 0.8)']\n",
    "]\n",
    "\n",
    "heat_scale = [\n",
    "    [0.0, 'rgba(255, 255, 255, 0.1)'],\n",
    "    [0.2, 'rgba(38, 82, 112, 0.3)'],\n",
    "    [0.4, 'rgba(38, 82, 112, 0.5)'],\n",
    "    [0.6, 'rgba(78, 94, 110, 0.7)'],\n",
    "    [0.9, 'rgba(78, 94, 110, 0.9)'],\n",
    "    [1.0, 'rgba(247, 127, 3, 1.0)']\n",
    "]\n",
    "\n",
    "heat_scale_2 = [\n",
    "    [0.0, 'rgba(255, 255, 255, 0.7)'],\n",
    "    [0.5, 'rgba(78, 94, 110, 1.0)'],\n",
    "    [1.0, 'rgba(247, 127, 3, 0.9)']\n",
    "]\n",
    "\n",
    "# Set individual feature colors\n",
    "col = 'rgba(143, 152, 161, 0.9)'\n",
    "tru = 'rgba(106, 120, 133, 0.9)'\n",
    "per = 'rgba(78,  94,  110, 0.9)'\n",
    "iz  = 'rgba(56,  72,  87,  0.9)'\n",
    "cz  = 'rgba(4,   36,  60,  0.9)'\n",
    "div = 'rgba(105, 138, 163, 0.9)' \n",
    "bel = 'rgba(65,  105, 136, 0.9)'\n",
    "res = 'rgba(39,  80,  112, 0.9)'\n",
    "bii = 'rgba(247, 127, 3,   1.0)'\n",
    "box_scale = [tru,res, div, bel, per, col, cz, iz, bii]\n",
    "\n",
    "# other potential fill colors\n",
    "fill = 'rgb(78, 94, 110)' # orange box fill\n",
    "fill2 = 'rgb(38, 82, 112)'\n",
    "fill3 = 'rgb(78, 94, 110)'\n",
    "fill4 = 'rgb(78, 94, 110)'\n",
    "fill5 = 'rgb(247, 127, 3)'\n",
    "\n",
    "# set font colors\n",
    "font_colors = ['#275170','#4E5E6E','#4E5E6E', '#FFFFFF']"
   ]
  },
  {
   "cell_type": "code",
   "execution_count": null,
   "metadata": {},
   "outputs": [],
   "source": [
    "#### SET LOCATION AND NAMES FOR OFFLINE PLOTS ####\n",
    "\n",
    "# in case you want to create/assign images to a different terminal directory\n",
    "#path = \"./directory/folder_1/plot_images/\"\n",
    "\n",
    "# name files \n",
    "corr_plot = \"Feature Correlation (Heat)\"\n",
    "boxS_plot = \"Box and Scatter\"\n",
    "corr_file_name = corr_plot + \"_\" + client + \"_\" + workgrp\n",
    "boxS_file_name = boxS_plot + \"_\" + client + \"_\" + workgrp"
   ]
  },
  {
   "cell_type": "code",
   "execution_count": null,
   "metadata": {},
   "outputs": [],
   "source": [
    "#sanity check\n",
    "df.head(3)"
   ]
  },
  {
   "cell_type": "code",
   "execution_count": null,
   "metadata": {},
   "outputs": [],
   "source": [
    "#### CREATE SUBSETS USED FOR PLOTTING ####\n",
    "\n",
    "# create list of features for processing\n",
    "feat_cols = ['trust', 'resilience', 'diversity', 'belief', 'perfection',\n",
    "       'collaboration', 'comfort zone', 'innovation zone', 'bii score']\n",
    "\n",
    "# select feature and data (leave response variable data)\n",
    "y_data = df[feat_cols[:-1]]\n",
    "x_data = feat_cols\n",
    "\n",
    "# remove response variable form feature list\n",
    "res_cols2 = feat_cols[:-1]\n",
    "\n",
    "# compute mean and standard div\n",
    "feat_mean = df[res_cols2].mean()\n",
    "feat_std = df[res_cols2].std()"
   ]
  },
  {
   "cell_type": "code",
   "execution_count": null,
   "metadata": {},
   "outputs": [],
   "source": [
    "#### ITERATIVELY CREATE TRACES USED IN PLOTTING ####\n",
    "\n",
    "# Intiate list to be used for iterative axes creation\n",
    "traces = []\n",
    "\n",
    "\n",
    "for xd, yd, cols in zip(x_data, y_data, box_scale):\n",
    "        traces.append(go.Box(\n",
    "            y = y_data[yd],\n",
    "            name = xd,\n",
    "            hoverlabel = dict(\n",
    "                bgcolor = '#EFEFEF', \n",
    "                bordercolor = cols),\n",
    "            boxpoints = 'all',\n",
    "            boxmean = True,\n",
    "            width = .5,\n",
    "            jitter = .5,\n",
    "            whiskerwidth=0.2,\n",
    "            fillcolor=fill2,        # use fill for single color on all boxes\n",
    "            marker_size=6,\n",
    "            marker = dict(\n",
    "                symbol  = 'circle',\n",
    "                opacity = 0.2,\n",
    "                size    = 14,\n",
    "                color   = '#E26130',\n",
    "                line = dict(\n",
    "                    color = '#E26130',\n",
    "                    width = 2\n",
    "                )\n",
    "            ),\n",
    "            line = dict(\n",
    "                color= '#E26130',\n",
    "                width = 1\n",
    "            ),\n",
    "        )\n",
    "                     )\n"
   ]
  },
  {
   "cell_type": "code",
   "execution_count": null,
   "metadata": {},
   "outputs": [],
   "source": [
    "#### UPDATE ARTISTS USING LAYOUT: MAKE PRETTY ####\n",
    "\n",
    "layout = go.Layout(\n",
    "    font = dict(\n",
    "        family = 'Open Sans',\n",
    "        size = 11\n",
    "    ),\n",
    "    #title =  'Mean of Feature Scores for %s' % client,\n",
    "    title = 'Feature Scores (Mean) ' + client,\n",
    "    width=900,\n",
    "    height=600,\n",
    "    paper_bgcolor = 'rgba(0,0,0,0)',\n",
    "    plot_bgcolor='rgba(0,0,0,0)',\n",
    "    boxmode='group',\n",
    "    yaxis=dict(\n",
    "        title = 'Scores',\n",
    "        autorange=True,\n",
    "        showgrid=True,\n",
    "        zeroline=True,\n",
    "        dtick=5,\n",
    "        gridcolor='#EFEFEF',\n",
    "        gridwidth=1,\n",
    "        zerolinecolor='#EFEFEF',\n",
    "        zerolinewidth=2\n",
    "    ),\n",
    "    xaxis = dict(\n",
    "        title = 'Features'\n",
    "    ),\n",
    "    \n",
    "    margin=dict(\n",
    "        l=40,\n",
    "        r=30,\n",
    "        b=80,\n",
    "        t=100,\n",
    "    ),\n",
    "\n",
    "\n",
    "\n",
    "    showlegend=False\n",
    ")\n",
    "    "
   ]
  },
  {
   "cell_type": "code",
   "execution_count": null,
   "metadata": {},
   "outputs": [],
   "source": [
    "#### BRING IT ALL TOGETHER: PLOT FIGURE ####\n",
    "fig = go.Figure(data=traces, layout=layout)\n",
    "offline.plot(fig, image='png',filename = boxS_file_name, show_link=False)"
   ]
  },
  {
   "cell_type": "code",
   "execution_count": null,
   "metadata": {},
   "outputs": [],
   "source": [
    "#### VIEW RESULTS ####\n",
    "from IPython.display import HTML\n",
    "#HTML('<div style=\"text-align: center\"><iframe width=\"80%\" height=\"600\" src=\"https://www.columnfivemedia.com/25-tips-to-upgrade-your-data-visualization-design\" frameborder=\"0\" allow=\"accelerometer; autoplay; encrypted-media; gyroscope; picture-in-picture\" allowfullscreen></iframe></div>')\n",
    "\n",
    "HTML('Box and Scatter_Plaksha_ Visualizations.html')"
   ]
  },
  {
   "cell_type": "markdown",
   "metadata": {},
   "source": [
    "<br>\n",
    "\n",
    "___\n",
    "\n",
    "<br>"
   ]
  },
  {
   "cell_type": "code",
   "execution_count": null,
   "metadata": {},
   "outputs": [],
   "source": [
    "#### CORRELATION HEATMAP ####\n",
    "fig = ff.create_annotated_heatmap(z=df[res_cols2].corr().round(2).values, \n",
    "                                  x=res_cols2, y=res_cols2, \n",
    "                                  colorscale=heat_scale_2, font_colors = font_colors, name='Feature Correlation Heatmap')\n",
    "\n",
    "#fig.layout.title = 'Individual Trait Correlations for %s' % client\n",
    "fig.layout.title = 'Individual Train Correlations ' + client\n",
    "#fig.layout.font = {'family': 'Open Sans', 'size':14, 'color':'#fff'}  #font color set to white\n",
    "fig.layout.font = {'family': 'Open Sans', 'size':14}                   #defalt font color\n",
    "\n",
    "fig.layout.xaxis = {'showgrid': False}\n",
    "fig.layout.yaxis = {'showgrid': False, 'tickangle':45}\n",
    "fig.layout.margin = {'l':90}\n",
    "fig.layout.paper_bgcolor = 'rgba(0,0,0,0)'\n",
    "fig.layout.plot_bgcolor='rgba(0,0,0,0)'\n",
    "\n",
    "\n",
    "offline.plot(fig, image='png',filename=corr_file_name, show_link=True, image_width=800, image_height=800)"
   ]
  },
  {
   "cell_type": "code",
   "execution_count": null,
   "metadata": {},
   "outputs": [],
   "source": [
    "#### VIEW RESULTS ####\n",
    "from IPython.display import HTML\n",
    "#HTML('<div style=\"text-align: center\"><iframe width=\"80%\" height=\"600\" src=\"https://www.columnfivemedia.com/25-tips-to-upgrade-your-data-visualization-design\" frameborder=\"0\" allow=\"accelerometer; autoplay; encrypted-media; gyroscope; picture-in-picture\" allowfullscreen></iframe></div>')\n",
    "\n",
    "HTML('Feature Correlation (Heat)_Plaksha_ Visualizations.html')"
   ]
  },
  {
   "cell_type": "markdown",
   "metadata": {},
   "source": [
    "<br>\n",
    "\n",
    "___\n",
    "\n",
    "<br>"
   ]
  },
  {
   "cell_type": "code",
   "execution_count": null,
   "metadata": {},
   "outputs": [],
   "source": [
    "# resilience, diversity, belief\n",
    "cor_df = feat_cols[:-4]\n",
    "\n",
    "resilience = 'Disciplined, Gritty, Focused, Experimental, Agile'\n",
    "diversity = 'Partner, Experiential, Open, Networker, Outgoing'\n",
    "belief = 'Focused, Goal-Driven, Quantitative, Deeply Curious, Adaptable'\n",
    "\n",
    "symbol = [\n",
    "    ['', ''                      , ''                      , ''                   , ''],\n",
    "    ['', 'Belief + Resilience'   , 'Belief + Diversity'    , 'Belief'             , ''],\n",
    "    ['', 'Diversity + Resilience', 'Diversity'             , 'Diversity + Belief' , ''],\n",
    "    ['', 'Resilience'            , 'Resilience + Diversity', 'Resilience + Belief', ''],\n",
    "    ['', ''                      , ''                      , ''                   , '']\n",
    "]\n",
    "br = belief + resilience\n",
    "bd = belief + diversity\n",
    "dr = diversity + resilience\n",
    "\n",
    "element = [\n",
    "    ['', '',         '',         '',         ''],\n",
    "    ['', belief,     belief,     belief    , ''],\n",
    "    ['', diversity,  diversity,  diversity , ''],\n",
    "    ['', resilience, resilience, resilience, ''],\n",
    "    ['', '',         '',         '',         '']\n",
    "]\n",
    "atomic_mass = [\n",
    "    ['', '',         '',        '',     ''],\n",
    "    ['', resilience, diversity, '',     ''],\n",
    "    ['', diversity,  '',        belief, ''],\n",
    "    ['', '',         diversity, belief, ''],\n",
    "    ['', '',         '',        '',     '']\n",
    "]\n",
    "\n",
    "heat_scale = [\n",
    "    [0.0, 'rgba(255, 255, 255, 0.1)'],\n",
    "    [0.1, 'rgba(38,  82,  112, 0.1)'],\n",
    "    [0.4, 'rgba(38,  82,  112, 0.2)'],\n",
    "    [0.5, 'rgba(78,  94,  110, 0.5)'],\n",
    "    [0.7, 'rgba(78,  94,  110, 0.9)'],\n",
    "    [1.0, 'rgba(247, 127, 3,   1.0)']\n",
    "]\n",
    "\n",
    "# Display element descriptive words on hover\n",
    "hover=range(len(symbol))\n",
    "for x in range(len(symbol)):\n",
    "    hover = list(hover)\n",
    "    hover[x] = ['<br>' + 'Descriptive Words: ' + '<br>'+ i + '<br>' + str(j) for i, j in zip(atomic_mass[x], element[x])]\n",
    "\n",
    "# Invert Matrices\n",
    "symbol = symbol[::-1]\n",
    "hover = hover[::-1]\n",
    "z = cor_df[::-1]    \n"
   ]
  },
  {
   "cell_type": "code",
   "execution_count": null,
   "metadata": {},
   "outputs": [],
   "source": [
    "# file name for new plot\n",
    "file_name = corr_file_name + \"_annotated\""
   ]
  },
  {
   "cell_type": "code",
   "execution_count": null,
   "metadata": {},
   "outputs": [],
   "source": [
    "#### PLOT ANNOTATED CORRELATION HEATMAP ####\n",
    "# plot correlation heatmap\n",
    "fig = ff.create_annotated_heatmap(z=df[z].corr().round(2).values, x=cor_df, y=cor_df,\n",
    "                                  colorscale=heat_scale, font_colors = font_colors, \n",
    "                                  name=file_name, annotation_text=symbol, text=hover)\n",
    "\n",
    "offline.init_notebook_mode()\n",
    "\n",
    "fig.layout.title = 'Feature Heatmap - %s' % client\n",
    "fig.layout.font = {'family': 'Open Sans', 'size':12}\n",
    "fig.layout.xaxis = {'visible': False}\n",
    "fig.layout.yaxis = {'visible': False}\n",
    "offline.plot(fig, image='png',filename=file_name, show_link=False, image_width=500, image_height=400)"
   ]
  },
  {
   "cell_type": "code",
   "execution_count": null,
   "metadata": {},
   "outputs": [],
   "source": [
    "HTML('Feature Correlation (Heat)_Plaksha_ Visualizations_annotated.html')"
   ]
  },
  {
   "cell_type": "markdown",
   "metadata": {},
   "source": [
    "<!--Navigate back to table of contents-->\n",
    "<div alig=\"right\" style=\"text-align: right\">\n",
    "    <span>\n",
    "        <a style=\"color:#FFFFFF; background-color:#0D0D0D; border:1px solid #FFFFFF; border-color:#FFFFFF;border-radius:5px;border-width:0px;display:inline-block;font-family:arial,helvetica,sans-serif;font-size:10px;letter-spacing:0px;line-height:10px;padding:10px 20px;text-align:center;text-decoration:none; align:center\" href=\"#Part_table_contents\" name=\"Table of Contents\"  id=\"Part_table_contents\"> \n",
    "            Table of Contents \n",
    "        </a>\n",
    "    </span>\n",
    "</div>\n",
    "<!-------------------------------------->"
   ]
  },
  {
   "cell_type": "markdown",
   "metadata": {},
   "source": [
    "<a id='Part_2_2'></a>\n",
    "<hr style=\"border: 4px solid#0B0B0B;\" />\n",
    "\n",
    "##### PART 2.2\n",
    "\n",
    "<br>\n",
    "\n",
    "<div align=\"left\" style=\"font-size:22px; font-family:FreeMono; font-weight: 100; font-stretch:ultra-condensed; line-height: 1.0; color:#2A2C2B\">\n",
    "    <strong>ALTAIR:</strong><br><strong> SCATTER PLOT</strong> WITH <strong>LINKED BRUSHING</strong><br> AND <strong> BOX SCATTER</strong> WITH <strong>ON-MOVE EVENTS</strong>\n",
    "</div>\n",
    "\n",
    "<br>\n",
    "\n",
    "<br>\n",
    "\n",
    "**ALTAIR Installation:** can be done in terminal or by using magic keys.<br>https://altair-viz.github.io/getting_started/overview.html\n",
    "\n",
    "\n",
    "```bash\n",
    "conda install -c conda-forge altair vega_datasets # in terminal, requires conda\n",
    "```\n",
    "OR\n",
    "```python\n",
    "pip install altair vega_datasets  # install official release\n",
    "```\n",
    "\n",
    "<br>\n",
    "\n",
    "___"
   ]
  },
  {
   "cell_type": "code",
   "execution_count": null,
   "metadata": {},
   "outputs": [],
   "source": [
    "# Load libraries\n",
    "import altair as alt\n",
    "import pandas as pd\n",
    "from vega_datasets import data"
   ]
  },
  {
   "cell_type": "code",
   "execution_count": null,
   "metadata": {},
   "outputs": [],
   "source": [
    "# load data\n",
    "data = pd.read_csv(\"bii_data_w_categories.csv\")\n",
    "data.head(3)"
   ]
  },
  {
   "cell_type": "markdown",
   "metadata": {},
   "source": [
    "___\n",
    "\n",
    "\n",
    "\n",
    "\n",
    "#### <strong> GRAMMAR OF GRAPHICS</strong>\n",
    "\n",
    "<br>\n",
    "\n",
    "<br>\n",
    "\n",
    "<table align=\"center\" style=\"width:80%; font-size:22px; font-family:FreeMono; font-weight: 100; font-stretch:ultra-condensed; line-height: 1.2; color:#2A2C2B\">\n",
    "  <tr>\n",
    "      <th style=\"font-size:16px; font-family:FreeMono; font-weight: 100; font-stretch:ultra-condensed; line-height: 1.2; color:#2A2C2B; vertical-align:top\">  \n",
    "          <div align=\"center\" style=\"vertical-align:top\">\n",
    "            <img src= \"example_marks_encoding.png\" align=\"Center\" width=\"60%\" vertical-align=\"top\">\n",
    "          </div>  \n",
    "      </th>\n",
    "      <th style=\"font-size:16px; font-family:FreeMono; font-weight: 100; font-stretch:ultra-condensed; line-height: 1.2; color:#2A2C2B; vertical-align:top\">\n",
    "          <div align=\"center\">\n",
    "            <img src= \"grammar_of_graphics_1_3stack.png\" align=\"Center\" width=\"100%\" vertical-align=\"top\">\n",
    "          </div>\n",
    "      </th>\n",
    "  </tr>    \n",
    "</table>\n",
    "\n",
    "___"
   ]
  },
  {
   "cell_type": "code",
   "execution_count": null,
   "metadata": {},
   "outputs": [],
   "source": [
    "# create selection brush (Interactive visualization selection event)\n",
    "brush = alt.selection(type='interval', resolve='global')"
   ]
  },
  {
   "cell_type": "code",
   "execution_count": null,
   "metadata": {},
   "outputs": [],
   "source": [
    "#create plot by combining data,geometric object <scatter>, and aesthetics\n",
    "circles = alt.Chart(data).mark_circle().encode(\n",
    "    y='perfection',\n",
    "    size='innovation zone',\n",
    "    color=alt.condition(brush, 'group', alt.ColorValue('orange'))\n",
    ").add_selection(\n",
    "    brush\n",
    ").properties(\n",
    "    width=350,\n",
    "    height=350\n",
    ")"
   ]
  },
  {
   "cell_type": "code",
   "execution_count": null,
   "metadata": {},
   "outputs": [],
   "source": [
    "# link plots to one another so taht selection even applies to all three\n",
    "circles.encode(x='resilience') | circles.encode(x='belief') | circles.encode(x='comfort zone') "
   ]
  },
  {
   "cell_type": "code",
   "execution_count": null,
   "metadata": {},
   "outputs": [],
   "source": [
    "# create mouseover selection (Interactive visualization on-hover event)\n",
    "highlight = alt.selection(type='single', on='mouseover',\n",
    "                          fields=['department'], nearest=True, bind='legend')\n",
    "\n",
    "#selection = alt.selection_multi(fields=['department'], bind='legend')"
   ]
  },
  {
   "cell_type": "code",
   "execution_count": null,
   "metadata": {},
   "outputs": [],
   "source": [
    "# crete base (note that it is not assocaited with a geometric_object)\n",
    "base = alt.Chart(data).encode(\n",
    "    x='department:N',\n",
    "    y='bii score:Q',\n",
    "    color='department:N',\n",
    "    size=alt.condition(~highlight, alt.value(50), alt.value(80))\n",
    "    \n",
    ")\n",
    "\n",
    "# link base (data and aesthetics) with geometric_object\n",
    "points = base.mark_circle().encode(\n",
    "    opacity=alt.value(.8)\n",
    ").add_selection(\n",
    "    highlight\n",
    ").properties(\n",
    "    width=600\n",
    ")\n"
   ]
  },
  {
   "cell_type": "code",
   "execution_count": null,
   "metadata": {},
   "outputs": [],
   "source": [
    "# sanity check\n",
    "points"
   ]
  },
  {
   "cell_type": "code",
   "execution_count": null,
   "metadata": {},
   "outputs": [],
   "source": [
    "# create annotated box plot\n",
    "boxes = alt.Chart(data).mark_boxplot().encode(\n",
    "    x='department:N',\n",
    "    y='bii score:Q',\n",
    "    color='department:N'\n",
    ").properties(\n",
    "    width=600\n",
    ")\n"
   ]
  },
  {
   "cell_type": "code",
   "execution_count": null,
   "metadata": {},
   "outputs": [],
   "source": [
    "# sanity check\n",
    "boxes"
   ]
  },
  {
   "cell_type": "code",
   "execution_count": null,
   "metadata": {},
   "outputs": [],
   "source": [
    "# combine the two plots\n",
    "boxes + points"
   ]
  },
  {
   "cell_type": "markdown",
   "metadata": {},
   "source": [
    "<!--Navigate back to table of contents-->\n",
    "<div alig=\"right\" style=\"text-align: right\">\n",
    "    <span>\n",
    "        <a style=\"color:#FFFFFF; background-color:#0D0D0D; border:1px solid #FFFFFF; border-color:#FFFFFF;border-radius:5px;border-width:0px;display:inline-block;font-family:arial,helvetica,sans-serif;font-size:10px;letter-spacing:0px;line-height:10px;padding:10px 20px;text-align:center;text-decoration:none; align:center\" href=\"#Part_table_contents\" name=\"Table of Contents\"  id=\"Part_table_contents\"> \n",
    "            Table of Contents \n",
    "        </a>\n",
    "    </span>\n",
    "</div>\n",
    "<!-------------------------------------->"
   ]
  },
  {
   "cell_type": "markdown",
   "metadata": {},
   "source": [
    "<a id='Part_3'></a>\n",
    "<hr style=\"border: 4px solid#0B0B0B;\" />\n",
    "\n",
    "#### PART 3\n",
    "\n",
    "<br>\n",
    "\n",
    "<div align=\"left\" style=\"font-size:32px; font-family:FreeMono; font-weight: 100; font-stretch:ultra-condensed; line-height: 1.0; color:#2A2C2B\">\n",
    "    <strong>ONE PLOT:</strong><br> STATIC, DYNAMIC, INTERACTIVE\n",
    "</div>\n",
    "\n",
    "<br>\n",
    "\n",
    "<br>\n",
    "\n",
    "\n",
    "> #### **1:** MATPLOTLIB\n",
    "\n",
    "> #### **2:** PLOTLY\n",
    "    \n",
    "> #### **3:** K3D\n"
   ]
  },
  {
   "cell_type": "markdown",
   "metadata": {},
   "source": [
    "<hr style=\"border: 1px solid#0B0B0B;\" />\n",
    "\n",
    "#### MATPLOTLIB"
   ]
  },
  {
   "cell_type": "code",
   "execution_count": null,
   "metadata": {},
   "outputs": [],
   "source": [
    "import matplotlib as mpl\n",
    "from mpl_toolkits.mplot3d import Axes3D\n",
    "import numpy as np\n",
    "import matplotlib.pyplot as plt\n",
    "\n",
    "mpl.rcParams['legend.fontsize'] = 10\n",
    "\n",
    "m_plot = plt.figure()\n",
    "ax = m_plot.gca(projection='3d')\n",
    "theta = np.linspace(-4 * np.pi, 4 * np.pi, 100)\n",
    "z = np.linspace(-2, 2, 100)\n",
    "r = z**2 + 1\n",
    "x = r * np.sin(theta)\n",
    "y = r * np.cos(theta)\n",
    "ax.plot(x, y, z, label='parametric curve')\n",
    "plt.show()\n",
    "\n",
    "\n",
    "m_plot.tight_layout()    # great command for adding white space\n",
    "                    # between plots"
   ]
  },
  {
   "cell_type": "markdown",
   "metadata": {},
   "source": [
    "<hr style=\"border: 1px solid#0B0B0B;\" />\n",
    "\n",
    "#### PLOTLY"
   ]
  },
  {
   "cell_type": "code",
   "execution_count": null,
   "metadata": {},
   "outputs": [],
   "source": [
    "import chart_studio.plotly as py\n",
    "import plotly.tools as tls \n",
    "\n",
    "# connect to plotly api\n",
    "# you will need your account in order to use plotly online\n",
    "\n",
    "# url object\n",
    "plotly_plot = py.plot_mpl(m_plot, auto_open=False)    #plot_mpl does not work in offline mode\n",
    "print(plotly_plot)"
   ]
  },
  {
   "cell_type": "code",
   "execution_count": null,
   "metadata": {},
   "outputs": [],
   "source": [
    "# display plots within IFrames\n",
    "from IPython.display import IFrame\n",
    "IFrame('https://plot.ly/~ehcastroh/205/', width=500, height=500)  #IFrame have minimum three arguments (object, width, height) "
   ]
  },
  {
   "cell_type": "markdown",
   "metadata": {},
   "source": [
    "<hr style=\"border: 1px solid#0B0B0B;\" />\n",
    "\n",
    "#### K3D"
   ]
  },
  {
   "cell_type": "code",
   "execution_count": 89,
   "metadata": {},
   "outputs": [
    {
     "data": {
      "application/vnd.jupyter.widget-view+json": {
       "model_id": "1e718c1ff405423893fc9bec8391a7e1",
       "version_major": 2,
       "version_minor": 0
      },
      "text/plain": [
       "Plot(antialias=3, axes=['x', 'y', 'z'], axes_helper=1.0, background_color=16777215, camera=[2, -3, 0.2, 0.0, 0…"
      ]
     },
     "metadata": {},
     "output_type": "display_data"
    },
    {
     "data": {
      "application/vnd.jupyter.widget-view+json": {
       "model_id": "48388520aaba40d891dc3d332a2c1edc",
       "version_major": 2,
       "version_minor": 0
      },
      "text/plain": [
       "Output()"
      ]
     },
     "metadata": {},
     "output_type": "display_data"
    }
   ],
   "source": [
    "import numpy as np\n",
    "import k3d\n",
    "\n",
    "k3d_plot = k3d.plot()\n",
    "\n",
    "theta = np.linspace(-4 * np.pi, 4 * np.pi, 100, dtype=np.float32)\n",
    "z = np.linspace(-2, 2, 100, dtype=np.float32)\n",
    "r = z**2 + 1\n",
    "x = r * np.sin(theta)\n",
    "y = r * np.cos(theta)\n",
    "\n",
    "line = k3d.line(np.vstack([x,y,z]).T, width=0.2, scaling = [1,1,2])\n",
    "\n",
    "k3d_plot += line\n",
    "k3d_plot.display()\n",
    "\n",
    "\"\"\"\n",
    "    Note: if you received \"Erro displaying widget\"\n",
    "    This is caused by K3D not being compatible with Jupyter Lab. \n",
    "    To view plot go to menu bar: Help -> Launch Classic Notebook\n",
    "\"\"\";"
   ]
  },
  {
   "cell_type": "markdown",
   "metadata": {},
   "source": [
    "<hr style=\"border: 4px solid#0B0B0B;\" />"
   ]
  },
  {
   "cell_type": "code",
   "execution_count": 90,
   "metadata": {},
   "outputs": [],
   "source": [
    "### Display plotly iframe within HTML ###\n",
    "from IPython.display import HTML\n",
    "\n",
    "### Embed videos in HTML Grids (more than one way to create columns!) ###\n",
    "call_to_action = HTML(\"\"\"\n",
    "    <table role=\"module\" background-color:#000000 border=\"0\" cellpadding=\"0\" cellspacing=\"0\" width=\"100%\" height=\"500\" style=\"table-layout:fixed\">\n",
    "        <tbody><tr> \n",
    "            <!--padding: t,r,b,l-->\n",
    "           \n",
    "            <!-- LEFT COLUMN -->\n",
    "            <td style=\"background-color:#000000;padding:20px;text-align:center\" height=\"100%\" width=\"70%\" valign=\"center\" bgcolor=\"#51EA50\">\n",
    "                <div style=\"text-align:center; padding:0px 0px\" >\n",
    "\n",
    "                    <!-- EMBEDDED VIDEO -->\n",
    "                    <iframe padding:10px width=\"100%\" height=\"500\" src=\"https://www.youtube.com/embed/pKemSP-Ei58?start=0&autoplay=0&vq=hd1080\" \n",
    "                        frameborder=\"0\" allow=\"accelerometer; autoplay; encrypted-media; gyroscope; picture-in-picture\" allowfullscreen>\n",
    "                    </iframe>\n",
    "                    \n",
    "                </div>\n",
    "                \n",
    "                <!-- IE IMAGE -->\n",
    "                <img src= \"./data/story_images/predli_header.png\" align=\"center\" width=\"10%\"  style=\"padding:20px; align:left\">\n",
    "            </td>\n",
    "            \n",
    "            <!-- RIGHT COLUMN -->\n",
    "            <td style=\"background-color:#000000;padding:0px 30px 0px 30px ;text-align:left\" height=\"100%\" width=\"30%\" valign=\"bottom\" bgcolor=\"#E950EA\">\n",
    "                \n",
    "                <!-- TEXT STACK -->\n",
    "                <div style=\"padding:0px 20px 0px 0px;text-align:right; box-sizing:content-box;margin-top:0px; margin-bottom:0px;\n",
    "                    font-style:normal;font-variant-ligatures:normal;font-variant-caps:normal;font-weight:400;\n",
    "                    font-family:'Open Sans','Helvetica Neue', Helvetica, Arial, sans-serif;font-size:14px;color:rgb(74,74,74)\">&nbsp;\n",
    "                    <span style=\"font-size:30px; color: #51EA50\">CONNECT</span>\n",
    "                </div>\n",
    "                <div style=\"padding:0px 20px 0px 0px;text-align:right; box-sizing:content-box;margin-top:40px; margin-bottom:0px;\n",
    "                    font-style:normal;font-variant-ligatures:normal;font-variant-caps:normal;font-weight:800;\n",
    "                    font-family:'Open Sans','Helvetica Neue', Helvetica, Arial, sans-serif;font-size:22px;color:rgb(74,74,74)\">&nbsp;\n",
    "                        <span style=\"font-size:40px; color: #E950EA\">ehcastroh <span>\n",
    "                </div>\n",
    "                \n",
    "            </td>\n",
    "        </tr></tbody>\n",
    "    </table>\n",
    "    \"\"\"\n",
    "    )\n",
    "\n",
    "### Psst! In the iframe tag, note the query arguments being pased after the video id -- '?&' -- These queries can make selecting the type of data you want to display much easier ###"
   ]
  },
  {
   "cell_type": "code",
   "execution_count": 91,
   "metadata": {},
   "outputs": [
    {
     "data": {
      "text/html": [
       "\n",
       "    <table role=\"module\" background-color:#000000 border=\"0\" cellpadding=\"0\" cellspacing=\"0\" width=\"100%\" height=\"500\" style=\"table-layout:fixed\">\n",
       "        <tbody><tr> \n",
       "            <!--padding: t,r,b,l-->\n",
       "           \n",
       "            <!-- LEFT COLUMN -->\n",
       "            <td style=\"background-color:#000000;padding:20px;text-align:center\" height=\"100%\" width=\"70%\" valign=\"center\" bgcolor=\"#51EA50\">\n",
       "                <div style=\"text-align:center; padding:0px 0px\" >\n",
       "\n",
       "                    <!-- EMBEDDED VIDEO -->\n",
       "                    <iframe padding:10px width=\"100%\" height=\"500\" src=\"https://www.youtube.com/embed/pKemSP-Ei58?start=0&autoplay=0&vq=hd1080\" \n",
       "                        frameborder=\"0\" allow=\"accelerometer; autoplay; encrypted-media; gyroscope; picture-in-picture\" allowfullscreen>\n",
       "                    </iframe>\n",
       "                    \n",
       "                </div>\n",
       "                \n",
       "                <!-- IE IMAGE -->\n",
       "                <img src= \"./data/story_images/predli_header.png\" align=\"center\" width=\"10%\"  style=\"padding:20px; align:left\">\n",
       "            </td>\n",
       "            \n",
       "            <!-- RIGHT COLUMN -->\n",
       "            <td style=\"background-color:#000000;padding:0px 30px 0px 30px ;text-align:left\" height=\"100%\" width=\"30%\" valign=\"bottom\" bgcolor=\"#E950EA\">\n",
       "                \n",
       "                <!-- TEXT STACK -->\n",
       "                <div style=\"padding:0px 20px 0px 0px;text-align:right; box-sizing:content-box;margin-top:0px; margin-bottom:0px;\n",
       "                    font-style:normal;font-variant-ligatures:normal;font-variant-caps:normal;font-weight:400;\n",
       "                    font-family:'Open Sans','Helvetica Neue', Helvetica, Arial, sans-serif;font-size:14px;color:rgb(74,74,74)\">&nbsp;\n",
       "                    <span style=\"font-size:30px; color: #51EA50\">CONNECT</span>\n",
       "                </div>\n",
       "                <div style=\"padding:0px 20px 0px 0px;text-align:right; box-sizing:content-box;margin-top:40px; margin-bottom:0px;\n",
       "                    font-style:normal;font-variant-ligatures:normal;font-variant-caps:normal;font-weight:800;\n",
       "                    font-family:'Open Sans','Helvetica Neue', Helvetica, Arial, sans-serif;font-size:22px;color:rgb(74,74,74)\">&nbsp;\n",
       "                        <span style=\"font-size:40px; color: #E950EA\">ehcastroh <span>\n",
       "                </div>\n",
       "                \n",
       "            </td>\n",
       "        </tr></tbody>\n",
       "    </table>\n",
       "    "
      ],
      "text/plain": [
       "<IPython.core.display.HTML object>"
      ]
     },
     "execution_count": 91,
     "metadata": {},
     "output_type": "execute_result"
    }
   ],
   "source": [
    "call_to_action"
   ]
  },
  {
   "cell_type": "markdown",
   "metadata": {
    "slideshow": {
     "slide_type": "slide"
    }
   },
   "source": [
    "<a id='Appendix_I'></a>\n",
    "<hr style=\"border: 8px solid#0B0B0B;\" />\n",
    "\n",
    "<br>\n",
    "\n",
    "## APPENDIX I: Resources And References To Material We Won't Cover In Detail\n",
    "\n",
    "\n",
    "> * **PYGAL Visualization Library** Super simple interactive plots with a moderate learning curve when it comes to advanced plots.<br> \n",
    ">http://www.pygal.org/en/stable/documentation/types/xy.html\n",
    "\n",
    "> * **LEATHER Visualization Library** Quick and easy plotting, limited options. Perfect for when you just need something done, now.<br>\n",
    ">https://pypi.org/project/leather/\n",
    "\n",
    "> * **VISPY Visualization Library** Fast, and scalable, interactive scientific visualizations.<br>\n",
    ">http://vispy.org/\n",
    "\n",
    "> * **HOLOVIEWS Visualization Library** Part of the PyViz fiamily of tools, Holoviews is a trimmed, yet easy to use, version of Bokeh.<br>\n",
    ">http://holoviews.org/index.html\n",
    "\n",
    "> * **LIGHTNING Visualization Library** Allows you to build interactive, web-ready, visualizations using your favorite programming language.<br>\n",
    ">http://lightning-viz.org/\n",
    "\n",
    "> * **BOKEH Visualization Library** A slightly different flavor to Plotly, just as good if not better according to some.<br>\n",
    ">https://bokeh.pydata.org\n",
    "\n",
    "> * **BQPLOT Visualization Library** Developed by Bloomberg media, this library can be quickly learned and offers many of the benefits of more challenging libraries.<br>\n",
    ">https://pypi.org/project/bqplot/\n",
    "\n",
    "> * **ALTAIR Visualization Library** The backbone to many declerative plotting engines, it is always worth playing with.<br>\n",
    ">https://altair-viz.github.io/\n",
    "\n",
    "> * **VEGA Visualization Library** A monster of a visualization engine when properly used.  Not easy to pick up, but once learned it can keep up with the best.<br>\n",
    ">https://vega.github.io/vega/\n",
    "\n",
    "> * **K3D Jupyter Widget** Part of a new breed of visualization libraries trying to make dynamic and interactive visualizations natively work in jupyter.<br>\n",
    ">https://k3d-jupyter.org/ &nbsp; and &nbsp; https://jupyter.org/widgets\n",
    "\n",
    "> * **DASH: Dashboard Based Dynamic Plotting** Works seamlessly with plotly, and enables the user to use simple click and drag mechanics to fully customize your dashboards.<br>\n",
    ">https://dash-gallery.plotly.host/Portal/\n",
    "\n",
    "> * **TABLEAU: Web Based Visualization Environment** Basically the standard for enterprise-focused visualizations.\n",
    "> https://public.tableau.com/s/\n",
    "\n",
    "> * **INFOGRAM: Web Based Comprehensive Visualization and Inforgraphic Environment** A one stop shop for all of your visualization needs.<br>\n",
    ">https://infogram.com/\n",
    "\n",
    "> * **FLOURISH: Web Based Visualization Environment** Are you a spreadsheet junkie, but hate the plotting options available by default? Boy, you should check out Flourish.<br>\n",
    ">https://flourish.studio/\n",
    "\n",
    "> * **DATAWRAPPER: Web Based Visualization and Map Creation Environment** more htan just a nieche service, Datawrapper offers some powerful capabilities through its web based service.<br>\n",
    ">https://www.datawrapper.de/\n",
    "\n",
    "\n",
    "<!--Navigate back to table of contents-->\n",
    "<div alig=\"right\" style=\"text-align: right\">\n",
    "    <span>\n",
    "        <a style=\"color:#FFFFFF; background-color:#0D0D0D; border:1px solid #FFFFFF; border-color:#FFFFFF;border-radius:5px;border-width:0px;display:inline-block;font-family:arial,helvetica,sans-serif;font-size:10px;letter-spacing:0px;line-height:10px;padding:10px 20px;text-align:center;text-decoration:none; align:center\" href=\"#Part_table_contents\" name=\"Table of Contents\"  id=\"Part_table_contents\"> \n",
    "            Table of Contents \n",
    "        </a>\n",
    "    </span>\n",
    "</div>\n",
    "<!-------------------------------------->"
   ]
  }
 ],
 "metadata": {
  "anaconda-cloud": {},
  "celltoolbar": "Slideshow",
  "kernelspec": {
   "display_name": "Python 3",
   "language": "python",
   "name": "python3"
  },
  "language_info": {
   "codemirror_mode": {
    "name": "ipython",
    "version": 3
   },
   "file_extension": ".py",
   "mimetype": "text/x-python",
   "name": "python",
   "nbconvert_exporter": "python",
   "pygments_lexer": "ipython3",
   "version": "3.6.10"
  },
  "livereveal": {
   "scroll": true
  },
  "rise": {
   "enable_chalkboard": true,
   "height": "90%",
   "width": "100%"
  }
 },
 "nbformat": 4,
 "nbformat_minor": 2
}
